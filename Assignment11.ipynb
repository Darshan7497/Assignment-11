{
 "cells": [
  {
   "cell_type": "markdown",
   "id": "24c97886-d1ef-4fdb-95a6-2c9c4042f7a0",
   "metadata": {},
   "source": [
    "Q1. Which function is used to open a file? What are the different modes of opening a file? Explain each mode\n",
    "of file opening."
   ]
  },
  {
   "cell_type": "markdown",
   "id": "375bb1e5-0972-4379-ace3-32cfb9074e8c",
   "metadata": {},
   "source": [
    "The open() function is used to open a file.\n",
    "\n",
    "The open() function accepts two arguments: the filename and the mode. The mode specifies the purpose of opening the file, and it determines whether the file is opened for reading, writing, or both.\n",
    "\n",
    "There are different modes available to open a file, including:\n",
    "\n",
    "r: Read mode (default). It is used to open the file for reading only. If the file doesn't exist, an error will occur. w: Write mode. It is used to open the file for writing only. If the file doesn't exist, a new file will be created. If the file already exists, its contents will be truncated. a: Append mode. It is used to open the file for appending data. If the file doesn't exist, a new file will be created. If the file already exists, the new data will be appended to the end of the file. x: Exclusive creation mode. It is used to open the file for exclusive creation. If the file already exists, an error will occur. b: Binary mode. It is used to open the file in binary mode, which is useful for non-text files, such as images, audio, and video. t: Text mode (default). It is used to open the file in text mode, which is useful for text files."
   ]
  },
  {
   "cell_type": "markdown",
   "id": "4da519ba-d51f-40a1-8cd4-16dee7c2e247",
   "metadata": {},
   "source": [
    "Q2. Why close() function is used? Why is it important to close a file?"
   ]
  },
  {
   "cell_type": "markdown",
   "id": "db939990-a3e9-4b74-81ed-dcc0b2ff5320",
   "metadata": {},
   "source": [
    "The close() function in Python is used to close a file that has been opened using the open() function.\n",
    "\n",
    "It is important to close a file after you are done working with it because it releases the resources used by the file and makes those resources available to other processes or programs. If you don't close the file properly, it can cause memory leaks or file corruption, especially if you are working with large files or if your program runs for a long time.\n",
    "\n",
    "Closing a file also ensures that any changes you made to the file are saved properly. For example, if you were writing data to a file and you don't close it properly, the data you wrote may not be saved to the file, and you may end up losing your work."
   ]
  },
  {
   "cell_type": "markdown",
   "id": "cf0fc4a8-07c7-4e7c-8969-8e4f8cb8531d",
   "metadata": {},
   "source": [
    "Q3. Write a python program to create a text file. Write ‘I want to become a Data Scientist’ in that file. Then\n",
    "close the file. Open this file and read the content of the file."
   ]
  },
  {
   "cell_type": "code",
   "execution_count": 3,
   "id": "de0586d7-6e0e-4e4e-a529-640925621096",
   "metadata": {},
   "outputs": [],
   "source": [
    "f = open(\"test.txt\",'w')\n"
   ]
  },
  {
   "cell_type": "code",
   "execution_count": 4,
   "id": "2d852087-22e2-47d5-b4e7-8c224755ce13",
   "metadata": {},
   "outputs": [
    {
     "data": {
      "text/plain": [
       "33"
      ]
     },
     "execution_count": 4,
     "metadata": {},
     "output_type": "execute_result"
    }
   ],
   "source": [
    "f.write(\"I want to become a Data Scientist\")"
   ]
  },
  {
   "cell_type": "code",
   "execution_count": 7,
   "id": "9c75a442-95cd-49a3-93ed-08859e564368",
   "metadata": {},
   "outputs": [],
   "source": [
    "f.close()"
   ]
  },
  {
   "cell_type": "code",
   "execution_count": 6,
   "id": "c76fce24-ae76-4263-8b02-1d16a65f15bc",
   "metadata": {},
   "outputs": [],
   "source": [
    "opn = open(\"test.txt\",'r')"
   ]
  },
  {
   "cell_type": "code",
   "execution_count": 9,
   "id": "1c18dd66-0d55-4fd5-81b8-52fd6edb5278",
   "metadata": {},
   "outputs": [
    {
     "data": {
      "text/plain": [
       "'I want to become a Data Scientist'"
      ]
     },
     "execution_count": 9,
     "metadata": {},
     "output_type": "execute_result"
    }
   ],
   "source": [
    "opn.read()"
   ]
  },
  {
   "cell_type": "code",
   "execution_count": 17,
   "id": "e61fef3a-0ee6-4f98-a99e-0bddb4b3663f",
   "metadata": {},
   "outputs": [],
   "source": [
    "opn.close()"
   ]
  },
  {
   "cell_type": "code",
   "execution_count": null,
   "id": "39ad1241-c250-4e24-84e7-6581c659b2fa",
   "metadata": {},
   "outputs": [],
   "source": []
  },
  {
   "cell_type": "code",
   "execution_count": null,
   "id": "72ec9b6c-bfef-4716-886f-174dd2c8b91b",
   "metadata": {},
   "outputs": [],
   "source": []
  },
  {
   "cell_type": "markdown",
   "id": "b86fe90a-8e5b-4275-b6c9-600f4fe13b39",
   "metadata": {},
   "source": [
    "Q4. Explain the following with python code: read(), readline() and readlines()."
   ]
  },
  {
   "cell_type": "code",
   "execution_count": 8,
   "id": "696918e3-49ae-4a17-92d7-abcd903c56fb",
   "metadata": {},
   "outputs": [
    {
     "data": {
      "text/plain": [
       "'I want to become a Data Scientist'"
      ]
     },
     "execution_count": 8,
     "metadata": {},
     "output_type": "execute_result"
    }
   ],
   "source": [
    "# read() function will simply return the entire text file .\n",
    "opn = open(\"test.txt\",'r')\n",
    "opn.read()\n",
    "\n"
   ]
  },
  {
   "cell_type": "code",
   "execution_count": 10,
   "id": "6a1491c0-86ad-4a41-8642-d958cb5d67b8",
   "metadata": {},
   "outputs": [
    {
     "data": {
      "text/plain": [
       "'ant to become a Data Scientist'"
      ]
     },
     "execution_count": 10,
     "metadata": {},
     "output_type": "execute_result"
    }
   ],
   "source": [
    "# readline() function allows which index we need to see the data \n",
    "opn.seek(3)\n",
    "opn.readline() # it will return in string format"
   ]
  },
  {
   "cell_type": "code",
   "execution_count": 11,
   "id": "d0d2b2da-eb12-4407-b3b5-47f169ac2620",
   "metadata": {},
   "outputs": [
    {
     "name": "stdout",
     "output_type": "stream",
     "text": [
      "['ant to become a Data Scientist']\n"
     ]
    }
   ],
   "source": [
    "# readlines() function will can take the data from specific index and return in a string of list form \n",
    "with open(\"test.txt\") as fx:\n",
    "    fx.seek(3)\n",
    "    print(fx.readlines())"
   ]
  },
  {
   "cell_type": "code",
   "execution_count": null,
   "id": "24ec509a-c250-4b43-8e49-e1ab40d8653c",
   "metadata": {},
   "outputs": [],
   "source": []
  },
  {
   "cell_type": "code",
   "execution_count": null,
   "id": "0c1e4ebf-7389-48c0-989e-b49eb26ee8a4",
   "metadata": {},
   "outputs": [],
   "source": []
  },
  {
   "cell_type": "markdown",
   "id": "e45f12e5-747b-4cf2-be1b-f12d4224643d",
   "metadata": {},
   "source": [
    "Q5. Explain why with statement is used with open(). What is the advantage of using with statement and\n",
    "open() together?"
   ]
  },
  {
   "cell_type": "markdown",
   "id": "721c0ca2-65e0-47a8-8df7-f1f42fd66779",
   "metadata": {},
   "source": [
    "In Python, the with statement is used to create a temporary context where one or more resources (such as files or network connections) are acquired and then automatically released at the end of the block. The with statement can be used with the open() function to ensure that the file is automatically closed when the block of code is exited."
   ]
  },
  {
   "cell_type": "code",
   "execution_count": 15,
   "id": "87210197-073b-4795-8649-a3bd1df7ada9",
   "metadata": {},
   "outputs": [],
   "source": [
    "with open('test.txt', 'r') as f:\n",
    "    contents = f.read()\n",
    "\n",
    "# `f` is automatically closed at the end of the `with` block"
   ]
  },
  {
   "cell_type": "markdown",
   "id": "bcf23d37-6621-4c60-9248-25bd30790806",
   "metadata": {},
   "source": [
    "In this example, we use the with statement with the open() function to read the contents of a file named \"test.txt\" in read mode. The file object is assigned to the variable f, and the read() method is used to read its contents into the contents variable. Once the with block is exited, the file is automatically closed by the with statement."
   ]
  },
  {
   "cell_type": "markdown",
   "id": "5d713273-895f-4c1b-8473-d8b95e1199f3",
   "metadata": {},
   "source": [
    "Q6. Explain the write() and writelines() functions. Give a suitable example."
   ]
  },
  {
   "cell_type": "code",
   "execution_count": null,
   "id": "5e2f3055-7a40-421a-8cb8-4210397bd9be",
   "metadata": {},
   "outputs": [],
   "source": []
  }
 ],
 "metadata": {
  "kernelspec": {
   "display_name": "Python 3 (ipykernel)",
   "language": "python",
   "name": "python3"
  },
  "language_info": {
   "codemirror_mode": {
    "name": "ipython",
    "version": 3
   },
   "file_extension": ".py",
   "mimetype": "text/x-python",
   "name": "python",
   "nbconvert_exporter": "python",
   "pygments_lexer": "ipython3",
   "version": "3.10.8"
  }
 },
 "nbformat": 4,
 "nbformat_minor": 5
}
